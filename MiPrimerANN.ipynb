{
  "nbformat": 4,
  "nbformat_minor": 0,
  "metadata": {
    "colab": {
      "provenance": [],
      "authorship_tag": "ABX9TyPxZX/8XOqZJl5WiWWzLw0C",
      "include_colab_link": true
    },
    "kernelspec": {
      "name": "python3",
      "display_name": "Python 3"
    },
    "language_info": {
      "name": "python"
    }
  },
  "cells": [
    {
      "cell_type": "markdown",
      "metadata": {
        "id": "view-in-github",
        "colab_type": "text"
      },
      "source": [
        "<a href=\"https://colab.research.google.com/github/alonsogr03/Curso-Deep-Learning/blob/main/MiPrimerANN.ipynb\" target=\"_parent\"><img src=\"https://colab.research.google.com/assets/colab-badge.svg\" alt=\"Open In Colab\"/></a>"
      ]
    },
    {
      "cell_type": "markdown",
      "source": [
        "# Mi primer ANN."
      ],
      "metadata": {
        "id": "iJ7xFOKnjmwh"
      }
    },
    {
      "cell_type": "markdown",
      "source": [
        "## Importación de librerías."
      ],
      "metadata": {
        "id": "6BYLlhh3mnDm"
      }
    },
    {
      "cell_type": "markdown",
      "source": [
        "En esta primera sección, vamos a importar las librerías necesarias para la realización de este proyecto. Estamos usando Python, por lo tanto, vamos a proceder a importar las sigiuentes librerías:"
      ],
      "metadata": {
        "id": "-5LFHGwymxBa"
      }
    },
    {
      "cell_type": "code",
      "source": [
        "import numpy as np\n",
        "import pandas as pd\n",
        "import matplotlib.pyplot as plt\n",
        "import tensorflow as tf"
      ],
      "metadata": {
        "id": "zem1rog9m9eD"
      },
      "execution_count": 1,
      "outputs": []
    }
  ]
}